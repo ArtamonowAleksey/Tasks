{
 "cells": [
  {
   "cell_type": "code",
   "execution_count": null,
   "id": "2cdb1f00",
   "metadata": {},
   "outputs": [],
   "source": [
    "#Импортируем нужные библиотеки\n",
    "\n",
    "import pandas as pd\n",
    "import numpy as np\n",
    "from scipy.signal import argrelextrema\n",
    "\n",
    "import seaborn as sns \n",
    "import matplotlib.pyplot as plt\n",
    "\n",
    "import datetime\n",
    "import warnings\n"
   ]
  },
  {
   "cell_type": "code",
   "execution_count": null,
   "id": "c3bf39de",
   "metadata": {},
   "outputs": [],
   "source": [
    "#Ставим кол-во выводимых строк и столбцов \n",
    "\n",
    "pd.set_option('display.max_rows', 500)\n",
    "pd.set_option('display.max_columns', 500)\n",
    "\n",
    "#Отключаем предупреждения\n",
    "\n",
    "warnings.filterwarnings('ignore')\n"
   ]
  },
  {
   "cell_type": "code",
   "execution_count": null,
   "id": "b79f5ae9",
   "metadata": {},
   "outputs": [],
   "source": [
    "#Кастомизируем стиль и размер наших будующих графиков\n",
    "\n",
    "plt.rcParams['figure.figsize']=[18,13]\n",
    "sns.set_style(\"whitegrid\")\n",
    "\n",
    "%matplotlib inline"
   ]
  },
  {
   "cell_type": "code",
   "execution_count": null,
   "id": "06492ac1",
   "metadata": {},
   "outputs": [],
   "source": [
    "#Загружаем данные\n",
    "\n",
    "with open('plr_smpl_attempts.csv') as f:\n",
    "    df = pd.read_csv(f,sep=';')"
   ]
  },
  {
   "cell_type": "code",
   "execution_count": null,
   "id": "7f458948",
   "metadata": {
    "scrolled": true
   },
   "outputs": [],
   "source": [
    "df.head(2)"
   ]
  },
  {
   "cell_type": "code",
   "execution_count": null,
   "id": "d3a382f1",
   "metadata": {},
   "outputs": [],
   "source": [
    "#Создаем копию\n",
    "\n",
    "dx = df.copy()"
   ]
  },
  {
   "cell_type": "code",
   "execution_count": null,
   "id": "a3b33341",
   "metadata": {},
   "outputs": [],
   "source": [
    "dx.head(2)"
   ]
  },
  {
   "cell_type": "code",
   "execution_count": null,
   "id": "6c2c61d7",
   "metadata": {},
   "outputs": [],
   "source": [
    "df.dtypes"
   ]
  },
  {
   "cell_type": "code",
   "execution_count": null,
   "id": "f7c7e26d",
   "metadata": {},
   "outputs": [],
   "source": [
    "#Пустые значения \n",
    "\n",
    "dx.isnull().sum()"
   ]
  },
  {
   "cell_type": "code",
   "execution_count": null,
   "id": "e40c8879",
   "metadata": {},
   "outputs": [],
   "source": [
    "#Удаляем дубликаты\n",
    "\n",
    "dx.drop_duplicates(inplace = True)\n",
    "\n",
    "#Проверяем что дубликатов нет\n",
    "\n",
    "dx[dx.duplicated()]"
   ]
  },
  {
   "cell_type": "code",
   "execution_count": null,
   "id": "2c810780",
   "metadata": {},
   "outputs": [],
   "source": [
    "#Обзорная таблица\n",
    "\n",
    "observe = pd.DataFrame([{\n",
    "                        'Total uids/attempts':dx['uid'].count(),\n",
    "                        'Unique uids':dx['uid'].nunique(),\n",
    "                        'Unique rounds':dx['level'].nunique(),\n",
    "                        'False attempts':dx['uid'][(dx['action']=='failed')].count(),\n",
    "                        'Positive attempts':dx['uid'][(dx['action']=='completed')].count()\n",
    "                        }])\n",
    "observe['Attempts per user'] = round(observe['Total uids/attempts']/observe['Unique uids'],0)\n",
    "observe"
   ]
  },
  {
   "cell_type": "code",
   "execution_count": null,
   "id": "a3b612b7",
   "metadata": {},
   "outputs": [],
   "source": [
    "#Преобразовываем event_time и добавляем новые переменные\n",
    "\n",
    "dx['normal_time'] = pd.to_datetime(dx['event_time'], utc=True, unit='ms')\n",
    "dx['dt'] = dx['normal_time'].dt.date\n",
    "dx['time'] = dx['normal_time'].dt.time\n"
   ]
  },
  {
   "cell_type": "code",
   "execution_count": null,
   "id": "4f8a4b6b",
   "metadata": {
    "scrolled": true
   },
   "outputs": [],
   "source": [
    "dx.head(2)"
   ]
  },
  {
   "cell_type": "code",
   "execution_count": null,
   "id": "942f065c",
   "metadata": {},
   "outputs": [],
   "source": [
    "#Сколько уникальных пользователей в день \n",
    "\n",
    "grouped = dx[['dt','uid']].groupby(['dt'],as_index=False).nunique()\n",
    "\n",
    "#Процентная разница в уникальных пользователях к предыдущему дню по дням\n",
    "\n",
    "grouped['Percent'] = round((grouped['uid']-grouped['uid'].shift(1))/grouped['uid']*100,2)\n",
    "\n",
    "grouped.head(5)"
   ]
  },
  {
   "cell_type": "code",
   "execution_count": null,
   "id": "23c35ee2",
   "metadata": {},
   "outputs": [],
   "source": [
    "#Выделим старых и новых/вернувшихся пользователей при условии что: \n",
    "#Новые/вернувшиеся - те кто впервые играет в рассматриваемый день а значит его dt=min(dt),под это условие подходят и вернувшиеся юзеры\n",
    "\n",
    "grouped_1 = dx[['uid','dt']].groupby(['uid'],as_index=False).min().rename(columns = {'dt': 'min_dt'})\n",
    "grouped_2 = grouped_1.merge(dx[['uid','dt']],how='left',left_on = 'uid',right_on='uid')\n",
    "grouped_2.drop_duplicates(inplace = True)\n",
    "grouped_2['User_Status'] = ['New' if x==y else 'Old' for x,y in zip(grouped_2['min_dt'],grouped_2['dt'])]\n",
    "grouped_3 = grouped_2[['dt','User_Status','uid']].groupby(['dt','User_Status'],as_index=False).nunique()\n",
    "\n",
    "grouped_3.head(5)"
   ]
  },
  {
   "cell_type": "code",
   "execution_count": null,
   "id": "79d47808",
   "metadata": {
    "scrolled": false
   },
   "outputs": [],
   "source": [
    "#Распределение уникальных пользователей по дням\n",
    "\n",
    "plt.rcParams['figure.figsize']=[18,13]\n",
    "plt.subplot(4, 1, 1)\n",
    "\n",
    "sns.barplot(data = grouped,x='dt',y='uid')\n",
    "\n",
    "plt.title('Unique users per day')\n",
    "\n",
    "#Процент изменения пользователей по дням\n",
    "\n",
    "plt.subplot(4, 1, 2)\n",
    "\n",
    "sns.lineplot(data = grouped,x='dt',y='Percent')\n",
    "\n",
    "#Добавим подписи значений на график \n",
    "\n",
    "for i,j in zip(grouped['dt'],grouped['Percent']):\n",
    "    plt.annotate(str(j),(i,j),textcoords = 'offset points',xytext=(0,10),ha='center')\n",
    "\n",
    "\n",
    "plt.title('Percent of unique users past day')\n",
    "\n",
    "#Новые/вернувшиеся и старые пользователи\n",
    "\n",
    "plt.subplot(4, 1, 3)\n",
    "\n",
    "sns.barplot(data = grouped_3,x='dt',y='uid',hue='User_Status')\n",
    "\n",
    "plt.title('New/Old users per day')\n",
    "\n",
    "#Отдельно выделим новых/вернувшихся пользователей\n",
    "\n",
    "plt.subplot(4, 1, 4)\n",
    "\n",
    "sns.barplot(data = grouped_3[(grouped_3['User_Status']=='New')],x='dt',y='uid')\n",
    "\n",
    "plt.title('New users per day')\n",
    "\n",
    "plt.show()"
   ]
  },
  {
   "cell_type": "markdown",
   "id": "5f317a76",
   "metadata": {},
   "source": [
    "###### Выводы из полученных данных:\n",
    "<ol>\n",
    "<li>Пользователи +- стабильно играют в игру по дням хотя и намечается спад;</li>\n",
    "<li>Новых пользователей ,которые впервые сыграли одну игру в разы меньше чем старых пользователей;</li>\n",
    "<li>Кол-во новых пользователей по дням +- одинаковый изо дня в день ,хоть и есть некоторые всплески;</li>\n",
    "<li>32% пользователей играет только один день!;</li>\n",
    "</ol>"
   ]
  },
  {
   "cell_type": "code",
   "execution_count": null,
   "id": "24be7053",
   "metadata": {
    "scrolled": false
   },
   "outputs": [],
   "source": [
    "#Пользователи которые играют только один день\n",
    "#Уберем из выбокри пользователей где их min dt = максимальному дню нашего датасета \n",
    "#Так как если он впервые сыграл в последний день нашего датасета у него не было возможности сыграть больше\n",
    "\n",
    "Test = dx[['uid','dt']].groupby(['uid'],as_index=False).agg({'dt':['max','min','nunique']})\n",
    "Test['Delta_Days'] = (Test['dt']['max']-Test['dt']['min']).dt.days\n",
    "Test = Test[(Test['dt']['min']<dx['dt'].max())]\n",
    "Test.head(5)"
   ]
  },
  {
   "cell_type": "code",
   "execution_count": null,
   "id": "b38e24d0",
   "metadata": {
    "scrolled": false
   },
   "outputs": [],
   "source": [
    "n, bins, patches = plt.hist(data = Test,x=list(Test['dt']['nunique']),bins=31)\n",
    "plt.show()"
   ]
  },
  {
   "cell_type": "code",
   "execution_count": null,
   "id": "0a70c9b8",
   "metadata": {},
   "outputs": [],
   "source": [
    "#Соберем таблицу из данных на гистограмме\n",
    "\n",
    "Days_count = list(Test['dt']['nunique'])\n",
    "uid_count = list(Test['uid'])\n",
    "uid_days = pd.DataFrame(list(zip(Days_count,uid_count)),columns = ['Days_count','uid'])\n",
    "uid_days_1 = uid_days[['Days_count','uid']].groupby(['Days_count'],as_index=False).count().sort_values(by='uid',ascending=False)\n",
    "uid_days_1['Delta%'] = round((uid_days_1['uid']-uid_days_1['uid'].shift(1))/uid_days_1['uid']*100,1)\n",
    "uid_days_1['Uid per total uids'] = round(uid_days_1['uid']/Test['uid'].nunique()*100,1)\n",
    "uid_days_1.head(5)"
   ]
  },
  {
   "cell_type": "markdown",
   "id": "8b355ddb",
   "metadata": {},
   "source": [
    "<ol>\n",
    "<li>61261 или 31.2% от общего числа пользователей играют только один день;</li>\n",
    "<li>2 дня играют уже 28377 пользователей, что на 116% меньше тех кто играет 1 день;</li>\n",
    "</ol>"
   ]
  },
  {
   "cell_type": "code",
   "execution_count": null,
   "id": "04a402bb",
   "metadata": {},
   "outputs": [],
   "source": [
    "#Расчеты относительно пользователя и его уровней"
   ]
  },
  {
   "cell_type": "code",
   "execution_count": null,
   "id": "fce6a920",
   "metadata": {},
   "outputs": [],
   "source": [
    "Test_1 = dx[['uid','level']].groupby(['uid'],as_index=False).agg({'level':['count','nunique','min','max']})\n",
    "Test_1['Played Rounds'] = Test_1['level']['max']-Test_1['level']['min']+1\n",
    "Test_1['Attempts per game'] = round(Test_1['level']['count']/Test_1['Played Rounds'],0)\n",
    "\n",
    "#Создана на основании того, что на последующих шагах мы увидим расхождения \n",
    "Test_1['Attempts per game 2'] = round(Test_1['level']['count']/Test_1['level']['nunique'],0)"
   ]
  },
  {
   "cell_type": "code",
   "execution_count": null,
   "id": "4081a7c6",
   "metadata": {
    "scrolled": false
   },
   "outputs": [],
   "source": [
    "Test_1.head(5)"
   ]
  },
  {
   "cell_type": "markdown",
   "id": "15e0407e",
   "metadata": {},
   "source": [
    "<ol>\n",
    "<li>nunique должен равняться Played Rounds но в некоторых случаях это не так.</li>\n",
    "<li>Получаем ,что у нас есть пропущенные раунды у пользователей</li>\n",
    "</ol>"
   ]
  },
  {
   "cell_type": "code",
   "execution_count": null,
   "id": "ba2496a0",
   "metadata": {
    "scrolled": true
   },
   "outputs": [],
   "source": [
    "#Кейсы где пропущены номера раундов \n",
    "\n",
    "Test_1[(Test_1['level']['nunique'] != Test_1['Played Rounds'])]"
   ]
  },
  {
   "cell_type": "code",
   "execution_count": null,
   "id": "4ca9646c",
   "metadata": {},
   "outputs": [],
   "source": [
    "#Подсчет по раунду"
   ]
  },
  {
   "cell_type": "code",
   "execution_count": null,
   "id": "6d53a92b",
   "metadata": {},
   "outputs": [],
   "source": [
    "#Создадим таблицу для будущего подсчета уникальных пользователей в каждом раунде\n",
    "\n",
    "grouped_1 = dx[['level','uid']].groupby(['level'],as_index=False).nunique()\n",
    "#grouped_1['cumsum_uid'] = grouped_1['uid'].cumsum()\n",
    "#grouped_1['Trash_Hold'] = round(grouped_1['cumsum_uid']/dx['uid'].nunique()*100,0)\n",
    "#grouped_1['Trash_Hold_level'] = [x if y>99.0 else 0 for x,y in zip(grouped_1['level'],grouped_1['Trash_Hold'])]\n",
    "#min_level = grouped_1[['level']][(grouped_1['Trash_Hold_level']!=0)].min()\n",
    "\n",
    "grouped_1['local_min']=grouped_1['uid'][(grouped_1['uid'].shift(1) > grouped_1['uid']) &\\\n",
    "                                    (grouped_1['uid'].shift(-1) > grouped_1['uid'])]\n",
    "\n",
    "grouped_1['local_max']=grouped_1['uid'][(grouped_1['uid'].shift(1) < grouped_1['uid']) &\\\n",
    "                                    (grouped_1['uid'].shift(-1) < grouped_1['uid'])]"
   ]
  },
  {
   "cell_type": "code",
   "execution_count": null,
   "id": "e0ffad0f",
   "metadata": {},
   "outputs": [],
   "source": [
    "grouped_1.head(5)"
   ]
  },
  {
   "cell_type": "code",
   "execution_count": null,
   "id": "1dfa1c85",
   "metadata": {},
   "outputs": [],
   "source": [
    "grouped_1[(grouped_1['local_min']>0)]"
   ]
  },
  {
   "cell_type": "code",
   "execution_count": null,
   "id": "7b0b259b",
   "metadata": {},
   "outputs": [],
   "source": [
    "grouped_1[(grouped_1['local_max']>0)]"
   ]
  },
  {
   "cell_type": "code",
   "execution_count": null,
   "id": "9a5685ab",
   "metadata": {
    "scrolled": false
   },
   "outputs": [],
   "source": [
    "#Кол-во уникальных пользователей в каждом раунде\n",
    "\n",
    "sns.scatterplot(data=grouped_1,x='level',y='uid')\n",
    "\n",
    "plt.axvline(x=50,color = 'g',label = 'Level 50')\n",
    "plt.axvline(x=100,color = 'r',label = 'Level 100')\n",
    "plt.axvline(x=169,color = 'g',label = 'Level 169')\n",
    "\n",
    "#Подкрасим наши локальные минимумы и максимумф\n",
    "\n",
    "plt.scatter(grouped_1.index, grouped_1['local_min'], c='g',label = 'Local min')\n",
    "plt.scatter(grouped_1.index, grouped_1['local_max'], c='r',label = 'Local max')\n",
    "\n",
    "plt.legend()\n",
    "plt.show()"
   ]
  },
  {
   "cell_type": "markdown",
   "id": "171b8e0e",
   "metadata": {},
   "source": [
    "###### Из графика видно ,что:\n",
    "<ol>\n",
    "<li>Есть резкое падение после 1го уровня до 50-го;</li>\n",
    "<li>Большой/аномальный retention пользователей с 50-го по 100-й уровень,по большей части обусловлен именно retention пользователей в конкретном раунде ,а не переходом из других.Это можно будет понять из расчетов ниже;</li>\n",
    "<li>После 100 уровня кол-во пользователей резко снижается;</li>\n",
    "<li>Основная масса пользователей находится в диапозоне от 1 до 169 уровня;</li>\n",
    "</ol>"
   ]
  },
  {
   "cell_type": "code",
   "execution_count": null,
   "id": "274a243d",
   "metadata": {},
   "outputs": [],
   "source": [
    "#Churn rate"
   ]
  },
  {
   "cell_type": "code",
   "execution_count": null,
   "id": "3507dd8a",
   "metadata": {},
   "outputs": [],
   "source": [
    "#Выделим пользователей по стартовому уровню и посмотрим как они продвигаются по игре \n",
    "\n",
    "Temp_1 = dx[['uid','level']].groupby(['uid'],as_index=False).min().rename(columns={'level':'start_level'})\n",
    "Temp_2 = dx[['uid','level']].merge(Temp_1,how='left',left_on='uid',right_on='uid')\n",
    "Temp_2.drop_duplicates(inplace = True)\n",
    "Temp_3 = Temp_2[['start_level','level','uid']].groupby(['start_level','level'],as_index=False).nunique()\n"
   ]
  },
  {
   "cell_type": "markdown",
   "id": "6c822384",
   "metadata": {},
   "source": [
    "### Воронка перехода "
   ]
  },
  {
   "cell_type": "code",
   "execution_count": null,
   "id": "7dfa4fed",
   "metadata": {
    "scrolled": false
   },
   "outputs": [],
   "source": [
    "\n",
    "#Рассмотрим новых пользователей ,которые начали игру с 1-го уровня и их 20 последующих уровней\n",
    "\n",
    "Temp_4 = Temp_3[(Temp_3['start_level']==1)].reset_index()\n",
    "Temp_4['Delta'] = [round((Temp_4['uid'][n]-Temp_4['uid'][0])/Temp_4['uid'][0]*100,2) for n in range(len(Temp_4['uid']))]\n",
    "\n",
    "sns.lineplot(data = Temp_4,x='level',y='Delta')\n",
    "plt.show()\n",
    "Temp_4.head(20)"
   ]
  },
  {
   "cell_type": "code",
   "execution_count": null,
   "id": "ffc5c26a",
   "metadata": {},
   "outputs": [],
   "source": [
    "#20% новых пользователей уходят после 4-го уровня 50% уходят после 14-го уровня"
   ]
  },
  {
   "cell_type": "code",
   "execution_count": null,
   "id": "ab2184ed",
   "metadata": {},
   "outputs": [],
   "source": [
    "#Можно проверить любой уровень и разделить пользователей на перешедших в уровень и на неожиданно вернувшихся\n",
    "\n",
    "Temp_3[(Temp_3['level']==94)]\n"
   ]
  },
  {
   "cell_type": "code",
   "execution_count": null,
   "id": "90c91c4e",
   "metadata": {},
   "outputs": [],
   "source": [
    "#Можно улучшить график, который уже был выше по уникальным пользователям\n",
    "\n",
    "Temp_3['status'] = [ 'new' if x==y else 'transfered' for x,y in zip(list(Temp_3['level']),list(Temp_3['start_level']))]\n",
    "Temp_5 = Temp_3[['level','status','uid']].groupby(['level','status'],as_index=False).sum()\n"
   ]
  },
  {
   "cell_type": "code",
   "execution_count": null,
   "id": "7a173dc2",
   "metadata": {},
   "outputs": [],
   "source": [
    "\n",
    "sns.scatterplot(data=Temp_5[(Temp_5['status']=='new')],x='level',y='uid',color='g',label='New')\n",
    "sns.scatterplot(data=Temp_5[(Temp_5['status']=='transfered')],x='level',y='uid',color='r',label='Transfered')\n",
    "\n",
    "plt.axvline(x=50,color = 'g',label = 'Level 50')\n",
    "plt.axvline(x=100,color = 'r',label = 'Level 100')\n",
    "plt.axvline(x=169,color = 'g',label = 'Level 169')\n",
    "\n",
    "plt.legend()\n",
    "plt.show()"
   ]
  },
  {
   "cell_type": "code",
   "execution_count": null,
   "id": "f9d37bb2",
   "metadata": {},
   "outputs": [],
   "source": [
    "#Посчитаем процент потерь при переходе с одного уровня на следующий по каждому уровню\n",
    "\n",
    "Cum_DF = pd.DataFrame()\n",
    "\n",
    "for i in list(set(Temp_3['start_level'])):\n",
    "    Temp_5 = Temp_3[(Temp_3['start_level']==i)].reset_index()\n",
    "    Temp_5['Delta'] = [round((Temp_5['uid'][n]-Temp_5['uid'][0])/Temp_5['uid'][0]*100,2) for n in range(len(Temp_5['uid']))]\n",
    "    Cum_DF=pd.concat([Temp_5,Cum_DF])"
   ]
  },
  {
   "cell_type": "code",
   "execution_count": null,
   "id": "de5b0a0d",
   "metadata": {},
   "outputs": [],
   "source": [
    "#Возьмем первые 20 уровней с которых начинает пользователь и посмотрим % потерь при переходе на следующий уровень\n",
    "\n",
    "K = Cum_DF[(Cum_DF['level']==Cum_DF['start_level']+1)].reset_index()\n",
    "T = K.sort_values(by='level').head(20)"
   ]
  },
  {
   "cell_type": "code",
   "execution_count": null,
   "id": "4667c49b",
   "metadata": {
    "scrolled": false
   },
   "outputs": [],
   "source": [
    "\n",
    "sns.lineplot(data = T,x='level',y='Delta')\n",
    "for i,j in zip(T['level'],T['Delta']):\n",
    "    plt.annotate(str(j),(i,j),textcoords = 'offset points',xytext=(0,10),ha='center')\n",
    "plt.show()"
   ]
  },
  {
   "cell_type": "code",
   "execution_count": null,
   "id": "cb27f171",
   "metadata": {},
   "outputs": [],
   "source": [
    "#Самый плохой процент перехода с 7 на 8 уровень\n",
    "#Как мы поймем дальше 7 уровень - еще один сложный уровень в игре"
   ]
  },
  {
   "cell_type": "markdown",
   "id": "8b7934d5",
   "metadata": {},
   "source": [
    "### #Метрика сложности уровня - среднее число попыток на уровень"
   ]
  },
  {
   "cell_type": "code",
   "execution_count": null,
   "id": "dc165366",
   "metadata": {},
   "outputs": [],
   "source": [
    "\n",
    "#Сколько попыток делает пользователь на каждом уровне\n",
    "\n",
    "Attempts = dx[['level','uid']].groupby(['level'],as_index=False).agg({'uid':['count','nunique']})\n",
    "Attempts['mean_attepts_round'] = round(Attempts['uid']['count']/Attempts['uid']['nunique'],0)"
   ]
  },
  {
   "cell_type": "code",
   "execution_count": null,
   "id": "004ee949",
   "metadata": {
    "scrolled": true
   },
   "outputs": [],
   "source": [
    "#Попытки по уровням\n",
    "\n",
    "plt.subplot(2, 1, 1)\n",
    "\n",
    "sns.scatterplot(data=Attempts,x=Attempts['level'],y=Attempts['uid']['count'])\n",
    "\n",
    "#Среднее кол-во попыток на определенном уровне\n",
    "\n",
    "plt.subplot(2, 1, 2)\n",
    "\n",
    "sns.lineplot(data=Attempts,x=Attempts['level'],y=Attempts['mean_attepts_round'])\n",
    "\n",
    "plt.legend()\n",
    "plt.show()"
   ]
  },
  {
   "cell_type": "code",
   "execution_count": null,
   "id": "6ce274a7",
   "metadata": {
    "scrolled": true
   },
   "outputs": [],
   "source": [
    "set(dx['action'])"
   ]
  },
  {
   "cell_type": "markdown",
   "id": "46f1042d",
   "metadata": {},
   "source": [
    "### Метрика сложности уровня - Сложность уровня число плохих юзеров(завалили попытку) в раунде к числу хороших юзеров(прошли раунд)."
   ]
  },
  {
   "cell_type": "code",
   "execution_count": null,
   "id": "de6b62fe",
   "metadata": {},
   "outputs": [],
   "source": [
    "\n",
    "Failed = dx[['level','uid']][(dx['action']=='failed')].groupby(['level'],as_index = False).agg({'uid':['count','nunique']}).\\\n",
    "rename(columns = {'count':'Failed_Attempts','nunique':'Users_Failed'})\n",
    "\n",
    "Completed = dx[['level','uid']][(dx['action']=='completed')].groupby(['level'],as_index = False).agg({'uid':['count','nunique']}).\\\n",
    "rename(columns = {'count':'completed_Attempts','nunique':'Users_completed'})\n",
    "\n",
    "joined = Failed.merge(Completed,how='inner')\n",
    "joined['Failled%'] = round(joined['uid']['Users_Failed']/joined['uid']['Users_completed']*100,2)\n",
    "\n",
    "#1 пользователь может совершить несколько хороших попыток?Если пройти уровень несколько раз\n",
    "\n",
    "sns.lineplot(data = joined,x='level',y='Failled%')\n",
    "plt.show()\n"
   ]
  },
  {
   "cell_type": "code",
   "execution_count": null,
   "id": "4f74ffd1",
   "metadata": {},
   "outputs": [],
   "source": [
    "joined"
   ]
  },
  {
   "cell_type": "code",
   "execution_count": null,
   "id": "de97294e",
   "metadata": {
    "scrolled": false
   },
   "outputs": [],
   "source": [
    "#Сколько уровней сыграл уникальный пользователь\n",
    "\n",
    "n, bins, patches = plt.hist(data = Test_1,x=list(Test_1['level']['nunique']),bins=500)\n",
    "plt.axhline(y = n.max(), color = 'r', linestyle = '--',label = f'{n.max()}: Число уникальных пользователей')\n",
    "plt.axvline(x=np.argmax(n)+1,color = 'g',label = f'{np.argmax(n)+1}: Кол-во сыгранных раундов')\n",
    "plt.legend()\n",
    "plt.show()\n",
    "\n",
    "#Число bins=500 - кол-во раундов, значит 1 деление гистограммы соответствует 1 раунду"
   ]
  },
  {
   "cell_type": "markdown",
   "id": "81fe7496",
   "metadata": {},
   "source": [
    "<ol>\n",
    "<li>Большенство пользователей играют один уровень после чего не переходят на другой.</li>\n",
    "</ol>"
   ]
  },
  {
   "cell_type": "code",
   "execution_count": null,
   "id": "2f3693ff",
   "metadata": {},
   "outputs": [],
   "source": [
    "#Расчет % уникальных пользователей относительно предыдущего уровеня\n",
    "\n",
    "Unique_Users = pd.DataFrame(list(zip([round(i,0) for i in bins],n)),columns = ['rounds','unique_users'])\n",
    "Unique_Users['Delta%'] = round((Unique_Users['unique_users']-Unique_Users['unique_users'].shift(1))/Unique_Users['unique_users']*100,1)\n",
    "Unique_Users['Unique user per played round/Total%'] = round(Unique_Users['unique_users']/dx['uid'].nunique()*100,1)"
   ]
  },
  {
   "cell_type": "code",
   "execution_count": null,
   "id": "e8955fb1",
   "metadata": {
    "scrolled": false
   },
   "outputs": [],
   "source": [
    "Unique_Users.head(5)"
   ]
  },
  {
   "cell_type": "code",
   "execution_count": null,
   "id": "3e13cbac",
   "metadata": {
    "scrolled": false
   },
   "outputs": [],
   "source": [
    "#Кол-во уникальных пользователей по кол-во сыгранных раундов ко всем уникальным пользователям\n",
    "\n",
    "sns.lineplot(data = Unique_Users,x='rounds',y='Unique user per played round/Total%')\n",
    "\n",
    "plt.show()"
   ]
  },
  {
   "cell_type": "markdown",
   "id": "a13f42fc",
   "metadata": {},
   "source": [
    "<ol>\n",
    "<li>Резкое падение уникальных пользователей (-126%) после одного сыгранного уровня</li>\n",
    "</ol>"
   ]
  },
  {
   "cell_type": "code",
   "execution_count": null,
   "id": "fd12e2ae",
   "metadata": {
    "scrolled": false
   },
   "outputs": [],
   "source": [
    "#Сколько играет пользователь\n",
    "\n",
    "n, bins, patches = plt.hist(data=Test_1,x=list(Test_1['level']['count']),bins=200)\n",
    "plt.axvline(x=np.argmax(n)+1,color = 'g',label = f'{np.argmax(n)+1}: Кол-во сыгранных игр')\n",
    "plt.legend()\n",
    "plt.show()\n",
    "\n",
    "#Тут число Bins=200 ,оно не соответствует общему числу попыток "
   ]
  },
  {
   "cell_type": "code",
   "execution_count": null,
   "id": "5c104a6b",
   "metadata": {
    "scrolled": true
   },
   "outputs": [],
   "source": [
    "#Та же гистограмма только в табличном виде и без Bins\n",
    "\n",
    "level_count = list(Test_1['level']['count'])\n",
    "uid = list(Test_1['uid'])\n",
    "A = pd.DataFrame(list(zip(level_count,uid)),columns = ['level_count','uid'])\n",
    "AB = A[['level_count','uid']].groupby(['level_count'],as_index=False).count().sort_values(by='uid',ascending=False)\n",
    "AB['Delta%'] = round((AB['uid']-AB['uid'].shift(1))/AB['uid']*100,1)\n",
    "AB['Uid per total uids'] = round(AB['uid']/dx['uid'].nunique()*100,1)\n",
    "AB"
   ]
  },
  {
   "cell_type": "markdown",
   "id": "aa46d9ab",
   "metadata": {},
   "source": [
    "<ol>\n",
    "<li>Большенство пользователей 14534=7.4% от всех пользователей играет 1 игру</li>\n",
    "<li>2 игры играют уже  9135=4.7% от всех пользователей или на 59% меньше чем играют первую игру</li>\n",
    "</ol>"
   ]
  },
  {
   "cell_type": "code",
   "execution_count": null,
   "id": "06ee007c",
   "metadata": {
    "scrolled": false
   },
   "outputs": [],
   "source": [
    "#Сколько совершает попыток уникальный юзер на один раунд\n",
    "\n",
    "n, bins, patches = plt.hist(data=Test_1,x='Attempts per game 2',bins=200)\n",
    "plt.axvline(x=np.argmax(n)+1,color = 'g',label = f'{np.argmax(n)+1}: Кол-во попыток на уровень')\n",
    "plt.legend()\n",
    "\n",
    "plt.show()\n",
    "\n",
    "#Тут число Bins=200 ,оно не соответствует общему числу попыток и с помощью np.argmax(n) мы не можем определить точное число попыток"
   ]
  },
  {
   "cell_type": "code",
   "execution_count": null,
   "id": "141cdb14",
   "metadata": {},
   "outputs": [],
   "source": [
    "#Проделаем тоже самое,что и в предыдущих шагах\n",
    "Test_1[['Attempts per game 2','uid']].groupby(['Attempts per game 2'],as_index=False).count().\\\n",
    "                                                                                    sort_values(by='uid',ascending=False).head(5)\n"
   ]
  },
  {
   "cell_type": "markdown",
   "id": "81b87c65",
   "metadata": {},
   "source": [
    "<ol>\n",
    "<li>Среднее кол-во попыток на уровень = 2</li>\n",
    "</ol>"
   ]
  },
  {
   "cell_type": "markdown",
   "id": "2dda597a",
   "metadata": {},
   "source": [
    "## Выводы\n",
    "\n",
    "<ol>\n",
    "\n",
    "<li>61261 или 31% пользователей играют лишь 1 день после чего не возвращаются,2 дня играют уже 28377 пользователей, что на 116% меньше тех кто играет 1 день.</li>\n",
    "<li>После одного сыгранного уровня, кол-во пользователей сокращается более чем в 2 раза ,на -126.4% относительно игроков которые сыграли 2 уровня</li>\n",
    "<li>Менее 1% пользователей играет каждый день</li>\n",
    "<li>#20% новых пользователей(кто начал игру с 1-го уровня) уходят после 4-го уровня, 50% уходят после 14-го уровня</li>\n",
    "<li>Уход после 4-го уровня можно обусловить тем,что 5-й уровень первый сложный уровень в игре</li>\n",
    "<li>Большенство пользователей не переходят на следующий уровень внезависимости от того с какого уровня они начали,график того ,что пользователи в основном играют 1 раунд это подтверждает</li>\n",
    "<li>14534 или 7.4% от всех пользователей играет 1 игру и больше не играют</li>\n",
    "<li>В зависимости от уровня пользователь чаще всего совершает от 1 до 3 попыток</li>\n",
    "<li>После 100 уровня кол-во пользователей резко снижается</li>\n",
    "\n",
    "<li>Так же были замечены странные пользователи, которые перескочили уровни, хотя вроде должно все идти подряд</li>\n",
    "</ol>\n"
   ]
  },
  {
   "cell_type": "markdown",
   "id": "d43366e1",
   "metadata": {},
   "source": [
    "## Пожелания\n",
    "\n",
    "<ol>\n",
    "<li>Увеличивать приток новых пользователей.</li>\n",
    "<li>Работать над удержанием новых пользователей особенно до 14-го уровня</li>\n",
    "<li>Следить за переходом на следующий уровень</li>\n",
    "\n",
    "</ol>"
   ]
  }
 ],
 "metadata": {
  "kernelspec": {
   "display_name": "Python 3 (ipykernel)",
   "language": "python",
   "name": "python3"
  },
  "language_info": {
   "codemirror_mode": {
    "name": "ipython",
    "version": 3
   },
   "file_extension": ".py",
   "mimetype": "text/x-python",
   "name": "python",
   "nbconvert_exporter": "python",
   "pygments_lexer": "ipython3",
   "version": "3.9.12"
  }
 },
 "nbformat": 4,
 "nbformat_minor": 5
}
